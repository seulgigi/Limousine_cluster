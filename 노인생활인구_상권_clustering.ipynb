{
 "cells": [
  {
   "cell_type": "code",
   "execution_count": 1,
   "id": "0b875712",
   "metadata": {},
   "outputs": [],
   "source": [
    "import pandas as pd\n",
    "import seaborn as sns"
   ]
  },
  {
   "cell_type": "code",
   "execution_count": 2,
   "id": "66ae6e4c",
   "metadata": {},
   "outputs": [],
   "source": [
    "from sklearn import datasets\n",
    "import matplotlib.pyplot as plt\n",
    "from sklearn.cluster import KMeans\n",
    "import numpy as np"
   ]
  },
  {
   "cell_type": "code",
   "execution_count": 3,
   "id": "020726f4",
   "metadata": {},
   "outputs": [],
   "source": [
    "from sklearn.preprocessing import RobustScaler"
   ]
  },
  {
   "cell_type": "code",
   "execution_count": 4,
   "id": "0d3d83a5",
   "metadata": {},
   "outputs": [],
   "source": [
    "# seaborn 한글 안깨지게\n",
    "import seaborn as sns\n",
    "import matplotlib.pyplot as plt\n",
    "\n",
    "plt.rc(\"font\", family = \"Malgun Gothic\")\n",
    "sns.set(font=\"Malgun Gothic\", \n",
    "rc={\"axes.unicode_minus\":False}, style='white')"
   ]
  },
  {
   "cell_type": "code",
   "execution_count": 5,
   "id": "3f9a89bf",
   "metadata": {},
   "outputs": [],
   "source": [
    "elderly_life=pd.read_csv(\"노인생활인구_최종.csv\",encoding=\"cp949\")\n",
    "elderly_build=pd.read_csv(\"노인시설수_최종.csv\",encoding=\"cp949\")\n",
    "market=pd.read_csv(\"행정동별_유통업체_노인.csv\",encoding=\"cp949\")\n",
    "hospital=pd.read_csv(\"의료기관수_노인.csv\",encoding=\"cp949\")"
   ]
  },
  {
   "cell_type": "code",
   "execution_count": 6,
   "id": "60ce8464",
   "metadata": {},
   "outputs": [
    {
     "data": {
      "image/png": "[encoded data removed]",
      "text/plain": [
       "<Figure size 576x72 with 1 Axes>"
      ]
     },
     "metadata": {
      "needs_background": "light"
     },
     "output_type": "display_data"
    }
   ],
   "source": [
    "# seaborn palette -> 찾아보고 마음에 드는걸로 바꿔도 괜찮 !\n",
    "palette = sns.color_palette('Set2') # palette 이름 () 안에 넣어주고\n",
    "sns.palplot(palette) # 색상 확인\n",
    "sns.set_palette('Set2') # 기본 palette로 적용됨"
   ]
  },
  {
   "cell_type": "markdown",
   "id": "af71f704",
   "metadata": {},
   "source": [
    "# 노인생활인구 상권 clustering"
   ]
  },
  {
   "cell_type": "code",
   "execution_count": 7,
   "id": "e81788d2",
   "metadata": {},
   "outputs": [
    {
     "data": {
      "text/html": [
       "<div>\n",
       "<style scoped>\n",
       "    .dataframe tbody tr th:only-of-type {\n",
       "        vertical-align: middle;\n",
       "    }\n",
       "\n",
       "    .dataframe tbody tr th {\n",
       "        vertical-align: top;\n",
       "    }\n",
       "\n",
       "    .dataframe thead th {\n",
       "        text-align: right;\n",
       "    }\n",
       "</style>\n",
       "<table border=\"1\" class=\"dataframe\">\n",
       "  <thead>\n",
       "    <tr style=\"text-align: right;\">\n",
       "      <th></th>\n",
       "      <th>행정동</th>\n",
       "      <th>전체평균</th>\n",
       "      <th>유통업체수</th>\n",
       "    </tr>\n",
       "  </thead>\n",
       "  <tbody>\n",
       "    <tr>\n",
       "      <th>0</th>\n",
       "      <td>가락1동</td>\n",
       "      <td>6173</td>\n",
       "      <td>0</td>\n",
       "    </tr>\n",
       "    <tr>\n",
       "      <th>1</th>\n",
       "      <td>가락2동</td>\n",
       "      <td>5619</td>\n",
       "      <td>1</td>\n",
       "    </tr>\n",
       "    <tr>\n",
       "      <th>2</th>\n",
       "      <td>가락본동</td>\n",
       "      <td>7463</td>\n",
       "      <td>0</td>\n",
       "    </tr>\n",
       "    <tr>\n",
       "      <th>3</th>\n",
       "      <td>가리봉동</td>\n",
       "      <td>2121</td>\n",
       "      <td>0</td>\n",
       "    </tr>\n",
       "    <tr>\n",
       "      <th>4</th>\n",
       "      <td>가산동</td>\n",
       "      <td>6771</td>\n",
       "      <td>5</td>\n",
       "    </tr>\n",
       "    <tr>\n",
       "      <th>...</th>\n",
       "      <td>...</td>\n",
       "      <td>...</td>\n",
       "      <td>...</td>\n",
       "    </tr>\n",
       "    <tr>\n",
       "      <th>417</th>\n",
       "      <td>효창동</td>\n",
       "      <td>2089</td>\n",
       "      <td>0</td>\n",
       "    </tr>\n",
       "    <tr>\n",
       "      <th>418</th>\n",
       "      <td>후암동</td>\n",
       "      <td>2825</td>\n",
       "      <td>0</td>\n",
       "    </tr>\n",
       "    <tr>\n",
       "      <th>419</th>\n",
       "      <td>휘경1동</td>\n",
       "      <td>3352</td>\n",
       "      <td>1</td>\n",
       "    </tr>\n",
       "    <tr>\n",
       "      <th>420</th>\n",
       "      <td>휘경2동</td>\n",
       "      <td>3962</td>\n",
       "      <td>0</td>\n",
       "    </tr>\n",
       "    <tr>\n",
       "      <th>421</th>\n",
       "      <td>흑석동</td>\n",
       "      <td>6458</td>\n",
       "      <td>1</td>\n",
       "    </tr>\n",
       "  </tbody>\n",
       "</table>\n",
       "<p>422 rows × 3 columns</p>\n",
       "</div>"
      ],
      "text/plain": [
       "      행정동  전체평균  유통업체수\n",
       "0    가락1동  6173      0\n",
       "1    가락2동  5619      1\n",
       "2    가락본동  7463      0\n",
       "3    가리봉동  2121      0\n",
       "4     가산동  6771      5\n",
       "..    ...   ...    ...\n",
       "417   효창동  2089      0\n",
       "418   후암동  2825      0\n",
       "419  휘경1동  3352      1\n",
       "420  휘경2동  3962      0\n",
       "421   흑석동  6458      1\n",
       "\n",
       "[422 rows x 3 columns]"
      ]
     },
     "execution_count": 7,
     "metadata": {},
     "output_type": "execute_result"
    }
   ],
   "source": [
    "df3=pd.merge(elderly_life,market,on=\"행정동\")\n",
    "df3"
   ]
  },
  {
   "cell_type": "code",
   "execution_count": 8,
   "id": "404d204f",
   "metadata": {},
   "outputs": [
    {
     "data": {
      "text/html": [
       "<div>\n",
       "<style scoped>\n",
       "    .dataframe tbody tr th:only-of-type {\n",
       "        vertical-align: middle;\n",
       "    }\n",
       "\n",
       "    .dataframe tbody tr th {\n",
       "        vertical-align: top;\n",
       "    }\n",
       "\n",
       "    .dataframe thead th {\n",
       "        text-align: right;\n",
       "    }\n",
       "</style>\n",
       "<table border=\"1\" class=\"dataframe\">\n",
       "  <thead>\n",
       "    <tr style=\"text-align: right;\">\n",
       "      <th></th>\n",
       "      <th>행정동</th>\n",
       "      <th>전체평균</th>\n",
       "      <th>유통업체수</th>\n",
       "    </tr>\n",
       "  </thead>\n",
       "  <tbody>\n",
       "    <tr>\n",
       "      <th>0</th>\n",
       "      <td>가락2동</td>\n",
       "      <td>5619</td>\n",
       "      <td>1</td>\n",
       "    </tr>\n",
       "    <tr>\n",
       "      <th>1</th>\n",
       "      <td>가산동</td>\n",
       "      <td>6771</td>\n",
       "      <td>5</td>\n",
       "    </tr>\n",
       "    <tr>\n",
       "      <th>2</th>\n",
       "      <td>가양2동</td>\n",
       "      <td>5035</td>\n",
       "      <td>1</td>\n",
       "    </tr>\n",
       "    <tr>\n",
       "      <th>3</th>\n",
       "      <td>가양3동</td>\n",
       "      <td>2576</td>\n",
       "      <td>1</td>\n",
       "    </tr>\n",
       "    <tr>\n",
       "      <th>4</th>\n",
       "      <td>갈현2동</td>\n",
       "      <td>5146</td>\n",
       "      <td>1</td>\n",
       "    </tr>\n",
       "    <tr>\n",
       "      <th>...</th>\n",
       "      <td>...</td>\n",
       "      <td>...</td>\n",
       "      <td>...</td>\n",
       "    </tr>\n",
       "    <tr>\n",
       "      <th>234</th>\n",
       "      <td>황학동</td>\n",
       "      <td>2870</td>\n",
       "      <td>3</td>\n",
       "    </tr>\n",
       "    <tr>\n",
       "      <th>235</th>\n",
       "      <td>회기동</td>\n",
       "      <td>3202</td>\n",
       "      <td>1</td>\n",
       "    </tr>\n",
       "    <tr>\n",
       "      <th>236</th>\n",
       "      <td>회현동</td>\n",
       "      <td>5335</td>\n",
       "      <td>9</td>\n",
       "    </tr>\n",
       "    <tr>\n",
       "      <th>237</th>\n",
       "      <td>휘경1동</td>\n",
       "      <td>3352</td>\n",
       "      <td>1</td>\n",
       "    </tr>\n",
       "    <tr>\n",
       "      <th>238</th>\n",
       "      <td>흑석동</td>\n",
       "      <td>6458</td>\n",
       "      <td>1</td>\n",
       "    </tr>\n",
       "  </tbody>\n",
       "</table>\n",
       "<p>239 rows × 3 columns</p>\n",
       "</div>"
      ],
      "text/plain": [
       "      행정동  전체평균  유통업체수\n",
       "0    가락2동  5619      1\n",
       "1     가산동  6771      5\n",
       "2    가양2동  5035      1\n",
       "3    가양3동  2576      1\n",
       "4    갈현2동  5146      1\n",
       "..    ...   ...    ...\n",
       "234   황학동  2870      3\n",
       "235   회기동  3202      1\n",
       "236   회현동  5335      9\n",
       "237  휘경1동  3352      1\n",
       "238   흑석동  6458      1\n",
       "\n",
       "[239 rows x 3 columns]"
      ]
     },
     "execution_count": 8,
     "metadata": {},
     "output_type": "execute_result"
    }
   ],
   "source": [
    "df3=df3[df3[\"유통업체수\"]>0]\n",
    "df3\n",
    "df3=df3.reset_index(drop=True)\n",
    "df3"
   ]
  },
  {
   "cell_type": "code",
   "execution_count": 9,
   "id": "98a47e6c",
   "metadata": {},
   "outputs": [
    {
     "data": {
      "text/html": [
       "<div>\n",
       "<style scoped>\n",
       "    .dataframe tbody tr th:only-of-type {\n",
       "        vertical-align: middle;\n",
       "    }\n",
       "\n",
       "    .dataframe tbody tr th {\n",
       "        vertical-align: top;\n",
       "    }\n",
       "\n",
       "    .dataframe thead th {\n",
       "        text-align: right;\n",
       "    }\n",
       "</style>\n",
       "<table border=\"1\" class=\"dataframe\">\n",
       "  <thead>\n",
       "    <tr style=\"text-align: right;\">\n",
       "      <th></th>\n",
       "      <th>행정동</th>\n",
       "      <th>전체평균</th>\n",
       "      <th>유통업체수</th>\n",
       "    </tr>\n",
       "  </thead>\n",
       "  <tbody>\n",
       "    <tr>\n",
       "      <th>0</th>\n",
       "      <td>가락2동</td>\n",
       "      <td>0.226866</td>\n",
       "      <td>0.0</td>\n",
       "    </tr>\n",
       "    <tr>\n",
       "      <th>1</th>\n",
       "      <td>가산동</td>\n",
       "      <td>0.656716</td>\n",
       "      <td>4.0</td>\n",
       "    </tr>\n",
       "    <tr>\n",
       "      <th>2</th>\n",
       "      <td>가양2동</td>\n",
       "      <td>0.008955</td>\n",
       "      <td>0.0</td>\n",
       "    </tr>\n",
       "    <tr>\n",
       "      <th>3</th>\n",
       "      <td>가양3동</td>\n",
       "      <td>-0.908582</td>\n",
       "      <td>0.0</td>\n",
       "    </tr>\n",
       "    <tr>\n",
       "      <th>4</th>\n",
       "      <td>갈현2동</td>\n",
       "      <td>0.050373</td>\n",
       "      <td>0.0</td>\n",
       "    </tr>\n",
       "    <tr>\n",
       "      <th>...</th>\n",
       "      <td>...</td>\n",
       "      <td>...</td>\n",
       "      <td>...</td>\n",
       "    </tr>\n",
       "    <tr>\n",
       "      <th>234</th>\n",
       "      <td>황학동</td>\n",
       "      <td>-0.798881</td>\n",
       "      <td>2.0</td>\n",
       "    </tr>\n",
       "    <tr>\n",
       "      <th>235</th>\n",
       "      <td>회기동</td>\n",
       "      <td>-0.675000</td>\n",
       "      <td>0.0</td>\n",
       "    </tr>\n",
       "    <tr>\n",
       "      <th>236</th>\n",
       "      <td>회현동</td>\n",
       "      <td>0.120896</td>\n",
       "      <td>8.0</td>\n",
       "    </tr>\n",
       "    <tr>\n",
       "      <th>237</th>\n",
       "      <td>휘경1동</td>\n",
       "      <td>-0.619030</td>\n",
       "      <td>0.0</td>\n",
       "    </tr>\n",
       "    <tr>\n",
       "      <th>238</th>\n",
       "      <td>흑석동</td>\n",
       "      <td>0.539925</td>\n",
       "      <td>0.0</td>\n",
       "    </tr>\n",
       "  </tbody>\n",
       "</table>\n",
       "<p>239 rows × 3 columns</p>\n",
       "</div>"
      ],
      "text/plain": [
       "      행정동      전체평균  유통업체수\n",
       "0    가락2동  0.226866    0.0\n",
       "1     가산동  0.656716    4.0\n",
       "2    가양2동  0.008955    0.0\n",
       "3    가양3동 -0.908582    0.0\n",
       "4    갈현2동  0.050373    0.0\n",
       "..    ...       ...    ...\n",
       "234   황학동 -0.798881    2.0\n",
       "235   회기동 -0.675000    0.0\n",
       "236   회현동  0.120896    8.0\n",
       "237  휘경1동 -0.619030    0.0\n",
       "238   흑석동  0.539925    0.0\n",
       "\n",
       "[239 rows x 3 columns]"
      ]
     },
     "execution_count": 9,
     "metadata": {},
     "output_type": "execute_result"
    }
   ],
   "source": [
    "# scaling\n",
    "scaler = RobustScaler()\n",
    "df3_scale=pd.DataFrame(scaler.fit_transform(df3[['전체평균','유통업체수']]),columns=df3[['전체평균','유통업체수']].columns)\n",
    "df3_scale.insert(0, '행정동', df3['행정동'])\n",
    "df3_scale"
   ]
  },
  {
   "cell_type": "code",
   "execution_count": 10,
   "id": "3a8a2cbb",
   "metadata": {},
   "outputs": [
    {
     "name": "stderr",
     "output_type": "stream",
     "text": [
      "C:\\Users\\gtsye\\anaconda3\\envs\\dongguk\\lib\\site-packages\\sklearn\\cluster\\_kmeans.py:1037: UserWarning: KMeans is known to have a memory leak on Windows with MKL, when there are less chunks than available threads. You can avoid it by setting the environment variable OMP_NUM_THREADS=1.\n",
      "  \"KMeans is known to have a memory leak on Windows \"\n"
     ]
    },
    {
     "data": {
      "image/png": "[encoded data removed]",
      "text/plain": [
       "<Figure size 432x288 with 1 Axes>"
      ]
     },
     "metadata": {
      "needs_background": "light"
     },
     "output_type": "display_data"
    }
   ],
   "source": [
    "# elbow\n",
    "data=df3_scale.values\n",
    "X=data[:,1:]\n",
    "\n",
    "num_clusters = list(range(1,10))\n",
    "inertias = []\n",
    "\n",
    "for i in num_clusters:\n",
    "    model = KMeans(n_clusters=i)\n",
    "    model.fit(X)\n",
    "    inertias.append(model.inertia_)\n",
    "\n",
    "plt.title('노인생활인구-상권수 cluster 개수 선정')\n",
    "plt.plot(num_clusters, inertias, '-o')\n",
    "plt.xlabel('Number of clusters (k)')\n",
    "plt.ylabel('Inertia')\n",
    "plt.show()"
   ]
  },
  {
   "cell_type": "markdown",
   "id": "39273a76",
   "metadata": {},
   "source": [
    "k = 3"
   ]
  },
  {
   "cell_type": "code",
   "execution_count": 12,
   "id": "1ed9ac95",
   "metadata": {},
   "outputs": [
    {
     "data": {
      "text/plain": [
       "Text(0.5, 1.0, '노인 생활인구와 상권 clustering')"
      ]
     },
     "execution_count": 12,
     "metadata": {},
     "output_type": "execute_result"
    },
    {
     "data": {
      "image/png": "[encoded data removed]",
      "text/plain": [
       "<Figure size 405.725x360 with 1 Axes>"
      ]
     },
     "metadata": {
      "needs_background": "light"
     },
     "output_type": "display_data"
    }
   ],
   "source": [
    "# clustering\n",
    "kmeans = KMeans(n_clusters=3).fit(X)\n",
    "kmeans.cluster_centers_\n",
    "kmeans.labels_\n",
    "df3_scale['cluster'] = kmeans.labels_\n",
    "\n",
    "sns.lmplot(x='전체평균',y='유통업체수', data = df3_scale, fit_reg=False, scatter_kws={\"s\":150},hue=\"cluster\")\n",
    "plt.xlabel('행정동별 노인 생활 인구수')\n",
    "plt.ylabel('상권 존재 여부')\n",
    "plt.title('노인 생활인구와 상권 clustering', fontsize = 13, pad = 20) # pad : 제목과 그림 사이 간격"
   ]
  },
  {
   "cell_type": "markdown",
   "id": "5f9e3074",
   "metadata": {},
   "source": [
    "의미 X"
   ]
  },
  {
   "cell_type": "markdown",
   "id": "eb4f934c",
   "metadata": {},
   "source": [
    "전체평균 즉 생활인구가 중위수 이상인것만 추출하여 다시 진행"
   ]
  },
  {
   "cell_type": "code",
   "execution_count": 13,
   "id": "ce03200c",
   "metadata": {},
   "outputs": [
    {
     "data": {
      "text/html": [
       "<div>\n",
       "<style scoped>\n",
       "    .dataframe tbody tr th:only-of-type {\n",
       "        vertical-align: middle;\n",
       "    }\n",
       "\n",
       "    .dataframe tbody tr th {\n",
       "        vertical-align: top;\n",
       "    }\n",
       "\n",
       "    .dataframe thead th {\n",
       "        text-align: right;\n",
       "    }\n",
       "</style>\n",
       "<table border=\"1\" class=\"dataframe\">\n",
       "  <thead>\n",
       "    <tr style=\"text-align: right;\">\n",
       "      <th></th>\n",
       "      <th>행정동</th>\n",
       "      <th>전체평균</th>\n",
       "      <th>유통업체수</th>\n",
       "      <th>cluster</th>\n",
       "    </tr>\n",
       "  </thead>\n",
       "  <tbody>\n",
       "    <tr>\n",
       "      <th>0</th>\n",
       "      <td>가락2동</td>\n",
       "      <td>0.226866</td>\n",
       "      <td>0.0</td>\n",
       "      <td>0</td>\n",
       "    </tr>\n",
       "    <tr>\n",
       "      <th>1</th>\n",
       "      <td>가산동</td>\n",
       "      <td>0.656716</td>\n",
       "      <td>4.0</td>\n",
       "      <td>1</td>\n",
       "    </tr>\n",
       "    <tr>\n",
       "      <th>2</th>\n",
       "      <td>가양2동</td>\n",
       "      <td>0.008955</td>\n",
       "      <td>0.0</td>\n",
       "      <td>0</td>\n",
       "    </tr>\n",
       "    <tr>\n",
       "      <th>4</th>\n",
       "      <td>갈현2동</td>\n",
       "      <td>0.050373</td>\n",
       "      <td>0.0</td>\n",
       "      <td>0</td>\n",
       "    </tr>\n",
       "    <tr>\n",
       "      <th>5</th>\n",
       "      <td>개봉2동</td>\n",
       "      <td>0.308209</td>\n",
       "      <td>0.0</td>\n",
       "      <td>0</td>\n",
       "    </tr>\n",
       "    <tr>\n",
       "      <th>...</th>\n",
       "      <td>...</td>\n",
       "      <td>...</td>\n",
       "      <td>...</td>\n",
       "      <td>...</td>\n",
       "    </tr>\n",
       "    <tr>\n",
       "      <th>222</th>\n",
       "      <td>하계1동</td>\n",
       "      <td>0.275000</td>\n",
       "      <td>0.0</td>\n",
       "      <td>0</td>\n",
       "    </tr>\n",
       "    <tr>\n",
       "      <th>223</th>\n",
       "      <td>한강로동</td>\n",
       "      <td>0.986940</td>\n",
       "      <td>9.0</td>\n",
       "      <td>2</td>\n",
       "    </tr>\n",
       "    <tr>\n",
       "      <th>230</th>\n",
       "      <td>화곡1동</td>\n",
       "      <td>2.136940</td>\n",
       "      <td>2.0</td>\n",
       "      <td>1</td>\n",
       "    </tr>\n",
       "    <tr>\n",
       "      <th>236</th>\n",
       "      <td>회현동</td>\n",
       "      <td>0.120896</td>\n",
       "      <td>8.0</td>\n",
       "      <td>2</td>\n",
       "    </tr>\n",
       "    <tr>\n",
       "      <th>238</th>\n",
       "      <td>흑석동</td>\n",
       "      <td>0.539925</td>\n",
       "      <td>0.0</td>\n",
       "      <td>0</td>\n",
       "    </tr>\n",
       "  </tbody>\n",
       "</table>\n",
       "<p>120 rows × 4 columns</p>\n",
       "</div>"
      ],
      "text/plain": [
       "      행정동      전체평균  유통업체수  cluster\n",
       "0    가락2동  0.226866    0.0        0\n",
       "1     가산동  0.656716    4.0        1\n",
       "2    가양2동  0.008955    0.0        0\n",
       "4    갈현2동  0.050373    0.0        0\n",
       "5    개봉2동  0.308209    0.0        0\n",
       "..    ...       ...    ...      ...\n",
       "222  하계1동  0.275000    0.0        0\n",
       "223  한강로동  0.986940    9.0        2\n",
       "230  화곡1동  2.136940    2.0        1\n",
       "236   회현동  0.120896    8.0        2\n",
       "238   흑석동  0.539925    0.0        0\n",
       "\n",
       "[120 rows x 4 columns]"
      ]
     },
     "execution_count": 13,
     "metadata": {},
     "output_type": "execute_result"
    }
   ],
   "source": [
    "df3_scale_0 = df3_scale[df3_scale['전체평균']>=0]\n",
    "df3_scale_0"
   ]
  },
  {
   "cell_type": "code",
   "execution_count": 14,
   "id": "cd6c7231",
   "metadata": {},
   "outputs": [
    {
     "name": "stderr",
     "output_type": "stream",
     "text": [
      "C:\\Users\\gtsye\\anaconda3\\envs\\dongguk\\lib\\site-packages\\sklearn\\cluster\\_kmeans.py:1037: UserWarning: KMeans is known to have a memory leak on Windows with MKL, when there are less chunks than available threads. You can avoid it by setting the environment variable OMP_NUM_THREADS=1.\n",
      "  \"KMeans is known to have a memory leak on Windows \"\n"
     ]
    },
    {
     "data": {
      "image/png": "[encoded data removed]",
      "text/plain": [
       "<Figure size 432x288 with 1 Axes>"
      ]
     },
     "metadata": {
      "needs_background": "light"
     },
     "output_type": "display_data"
    }
   ],
   "source": [
    "# elbow\n",
    "data = df3_scale_0.values\n",
    "X=data[:,1:-1]\n",
    "\n",
    "num_clusters = list(range(1,10))\n",
    "inertias = []\n",
    "\n",
    "for i in num_clusters:\n",
    "    model = KMeans(n_clusters=i)\n",
    "    model.fit(X)\n",
    "    inertias.append(model.inertia_)\n",
    "\n",
    "plt.title('노인생활인구-상권수 cluster 개수 재선정')\n",
    "plt.plot(num_clusters, inertias, '-o')\n",
    "plt.xlabel('Number of clusters (k)')\n",
    "plt.ylabel('Inertia')\n",
    "plt.show()"
   ]
  },
  {
   "cell_type": "markdown",
   "id": "b070b02b",
   "metadata": {},
   "source": [
    "k = 4"
   ]
  },
  {
   "cell_type": "code",
   "execution_count": 15,
   "id": "c3b1d3c5",
   "metadata": {},
   "outputs": [
    {
     "name": "stderr",
     "output_type": "stream",
     "text": [
      "C:\\Users\\gtsye\\anaconda3\\envs\\dongguk\\lib\\site-packages\\ipykernel_launcher.py:5: SettingWithCopyWarning: \n",
      "A value is trying to be set on a copy of a slice from a DataFrame.\n",
      "Try using .loc[row_indexer,col_indexer] = value instead\n",
      "\n",
      "See the caveats in the documentation: https://pandas.pydata.org/pandas-docs/stable/user_guide/indexing.html#returning-a-view-versus-a-copy\n",
      "  \"\"\"\n"
     ]
    },
    {
     "data": {
      "text/plain": [
       "Text(0.5, 1.0, '노인 생활인구와 상권 2차 clustering')"
      ]
     },
     "execution_count": 15,
     "metadata": {},
     "output_type": "execute_result"
    },
    {
     "data": {
      "image/png": "[encoded data removed]",
      "text/plain": [
       "<Figure size 431.05x360 with 1 Axes>"
      ]
     },
     "metadata": {
      "needs_background": "light"
     },
     "output_type": "display_data"
    }
   ],
   "source": [
    "# clustering\n",
    "kmeans = KMeans(n_clusters=4).fit(X)\n",
    "kmeans.cluster_centers_\n",
    "kmeans.labels_\n",
    "df3_scale_0['new cluster'] = kmeans.labels_\n",
    "\n",
    "sns.lmplot(x='전체평균',y='유통업체수', data = df3_scale_0, fit_reg=False, scatter_kws={\"s\":150},hue=\"new cluster\")\n",
    "plt.xlabel('행정동별 노인 생활 인구수')\n",
    "plt.ylabel('상권 존재 여부')\n",
    "plt.title('노인 생활인구와 상권 2차 clustering', fontsize = 13, pad = 20) # pad : 제목과 그림 사이 간격"
   ]
  },
  {
   "cell_type": "markdown",
   "id": "c8cab283",
   "metadata": {},
   "source": [
    "cluster1 (상단) 추출"
   ]
  },
  {
   "cell_type": "code",
   "execution_count": 17,
   "id": "f064a784",
   "metadata": {},
   "outputs": [
    {
     "data": {
      "text/html": [
       "<div>\n",
       "<style scoped>\n",
       "    .dataframe tbody tr th:only-of-type {\n",
       "        vertical-align: middle;\n",
       "    }\n",
       "\n",
       "    .dataframe tbody tr th {\n",
       "        vertical-align: top;\n",
       "    }\n",
       "\n",
       "    .dataframe thead th {\n",
       "        text-align: right;\n",
       "    }\n",
       "</style>\n",
       "<table border=\"1\" class=\"dataframe\">\n",
       "  <thead>\n",
       "    <tr style=\"text-align: right;\">\n",
       "      <th></th>\n",
       "      <th>행정동</th>\n",
       "      <th>전체평균</th>\n",
       "      <th>유통업체수</th>\n",
       "      <th>cluster</th>\n",
       "      <th>new cluster</th>\n",
       "    </tr>\n",
       "  </thead>\n",
       "  <tbody>\n",
       "    <tr>\n",
       "      <th>1</th>\n",
       "      <td>가산동</td>\n",
       "      <td>0.656716</td>\n",
       "      <td>4.0</td>\n",
       "      <td>1</td>\n",
       "      <td>1</td>\n",
       "    </tr>\n",
       "    <tr>\n",
       "      <th>19</th>\n",
       "      <td>구의3동</td>\n",
       "      <td>0.243657</td>\n",
       "      <td>4.0</td>\n",
       "      <td>1</td>\n",
       "      <td>1</td>\n",
       "    </tr>\n",
       "    <tr>\n",
       "      <th>23</th>\n",
       "      <td>길음1동</td>\n",
       "      <td>0.391791</td>\n",
       "      <td>4.0</td>\n",
       "      <td>1</td>\n",
       "      <td>1</td>\n",
       "    </tr>\n",
       "    <tr>\n",
       "      <th>45</th>\n",
       "      <td>독산1동</td>\n",
       "      <td>0.635448</td>\n",
       "      <td>6.0</td>\n",
       "      <td>1</td>\n",
       "      <td>1</td>\n",
       "    </tr>\n",
       "    <tr>\n",
       "      <th>90</th>\n",
       "      <td>삼성1동</td>\n",
       "      <td>0.151119</td>\n",
       "      <td>4.0</td>\n",
       "      <td>1</td>\n",
       "      <td>1</td>\n",
       "    </tr>\n",
       "    <tr>\n",
       "      <th>102</th>\n",
       "      <td>서교동</td>\n",
       "      <td>1.008582</td>\n",
       "      <td>5.0</td>\n",
       "      <td>1</td>\n",
       "      <td>1</td>\n",
       "    </tr>\n",
       "    <tr>\n",
       "      <th>163</th>\n",
       "      <td>영등포동</td>\n",
       "      <td>1.576866</td>\n",
       "      <td>5.0</td>\n",
       "      <td>1</td>\n",
       "      <td>1</td>\n",
       "    </tr>\n",
       "    <tr>\n",
       "      <th>191</th>\n",
       "      <td>잠실3동</td>\n",
       "      <td>1.323134</td>\n",
       "      <td>4.0</td>\n",
       "      <td>1</td>\n",
       "      <td>1</td>\n",
       "    </tr>\n",
       "    <tr>\n",
       "      <th>192</th>\n",
       "      <td>잠실6동</td>\n",
       "      <td>0.848881</td>\n",
       "      <td>5.0</td>\n",
       "      <td>1</td>\n",
       "      <td>1</td>\n",
       "    </tr>\n",
       "    <tr>\n",
       "      <th>201</th>\n",
       "      <td>종로1.2.3.4가동</td>\n",
       "      <td>3.025000</td>\n",
       "      <td>6.0</td>\n",
       "      <td>1</td>\n",
       "      <td>1</td>\n",
       "    </tr>\n",
       "    <tr>\n",
       "      <th>223</th>\n",
       "      <td>한강로동</td>\n",
       "      <td>0.986940</td>\n",
       "      <td>9.0</td>\n",
       "      <td>2</td>\n",
       "      <td>1</td>\n",
       "    </tr>\n",
       "    <tr>\n",
       "      <th>236</th>\n",
       "      <td>회현동</td>\n",
       "      <td>0.120896</td>\n",
       "      <td>8.0</td>\n",
       "      <td>2</td>\n",
       "      <td>1</td>\n",
       "    </tr>\n",
       "  </tbody>\n",
       "</table>\n",
       "</div>"
      ],
      "text/plain": [
       "             행정동      전체평균  유통업체수  cluster  new cluster\n",
       "1            가산동  0.656716    4.0        1            1\n",
       "19          구의3동  0.243657    4.0        1            1\n",
       "23          길음1동  0.391791    4.0        1            1\n",
       "45          독산1동  0.635448    6.0        1            1\n",
       "90          삼성1동  0.151119    4.0        1            1\n",
       "102          서교동  1.008582    5.0        1            1\n",
       "163         영등포동  1.576866    5.0        1            1\n",
       "191         잠실3동  1.323134    4.0        1            1\n",
       "192         잠실6동  0.848881    5.0        1            1\n",
       "201  종로1.2.3.4가동  3.025000    6.0        1            1\n",
       "223         한강로동  0.986940    9.0        2            1\n",
       "236          회현동  0.120896    8.0        2            1"
      ]
     },
     "execution_count": 17,
     "metadata": {},
     "output_type": "execute_result"
    }
   ],
   "source": [
    "result = df3_scale_0[df3_scale_0[\"new cluster\"]==1]\n",
    "result"
   ]
  },
  {
   "cell_type": "code",
   "execution_count": 18,
   "id": "53c7e6d1",
   "metadata": {},
   "outputs": [],
   "source": [
    "result.to_csv(\"노인생활인구_상권수_KMEANS.csv\",encoding=\"cp949\")"
   ]
  }
 ],
 "metadata": {
  "kernelspec": {
   "display_name": "Python 3 (ipykernel)",
   "language": "python",
   "name": "python3"
  },
  "language_info": {
   "codemirror_mode": {
    "name": "ipython",
    "version": 3
   },
   "file_extension": ".py",
   "mimetype": "text/x-python",
   "name": "python",
   "nbconvert_exporter": "python",
   "pygments_lexer": "ipython3",
   "version": "3.7.11"
  }
 },
 "nbformat": 4,
 "nbformat_minor": 5
}

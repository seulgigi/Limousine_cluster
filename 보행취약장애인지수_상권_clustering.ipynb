{
 "cells": [
  {
   "cell_type": "code",
   "execution_count": 18,
   "id": "76124936",
   "metadata": {},
   "outputs": [],
   "source": [
    "import pandas as pd\n",
    "import seaborn as sns"
   ]
  },
  {
   "cell_type": "code",
   "execution_count": 19,
   "id": "07274506",
   "metadata": {},
   "outputs": [],
   "source": [
    "from sklearn import datasets\n",
    "import matplotlib.pyplot as plt\n",
    "from sklearn.cluster import KMeans\n",
    "import numpy as np\n",
    "from sklearn.preprocessing import RobustScaler"
   ]
  },
  {
   "cell_type": "code",
   "execution_count": 20,
   "id": "0421343e",
   "metadata": {},
   "outputs": [],
   "source": [
    "# seaborn 한글 안깨지게\n",
    "import seaborn as sns\n",
    "import matplotlib.pyplot as plt\n",
    "\n",
    "plt.rc(\"font\", family = \"Malgun Gothic\")\n",
    "sns.set(font=\"Malgun Gothic\", \n",
    "rc={\"axes.unicode_minus\":False}, style='white')"
   ]
  },
  {
   "cell_type": "code",
   "execution_count": 21,
   "id": "7d400714",
   "metadata": {
    "scrolled": true
   },
   "outputs": [
    {
     "data": {
      "image/png": "[encoded data removed]",
      "text/plain": [
       "<Figure size 576x72 with 1 Axes>"
      ]
     },
     "metadata": {},
     "output_type": "display_data"
    }
   ],
   "source": [
    "# seaborn palette -> 찾아보고 마음에 드는걸로 바꿔도 괜찮 !\n",
    "palette = sns.color_palette('Set2') # palette 이름 () 안에 넣어주고\n",
    "sns.palplot(palette) # 색상 확인\n",
    "sns.set_palette('Set2') # 기본 palette로 적용됨"
   ]
  },
  {
   "cell_type": "code",
   "execution_count": 22,
   "id": "699c33f1",
   "metadata": {},
   "outputs": [],
   "source": [
    "disabled_score=pd.read_csv(\"보행위험장애인지수.csv\",encoding=\"cp949\")"
   ]
  },
  {
   "cell_type": "markdown",
   "id": "71c2fb0e",
   "metadata": {},
   "source": [
    "## 장애인 - 상권"
   ]
  },
  {
   "cell_type": "code",
   "execution_count": 23,
   "id": "a4ea7605",
   "metadata": {},
   "outputs": [],
   "source": [
    "market=pd.read_csv(\"행정동별_유통업체.csv\",encoding=\"cp949\")"
   ]
  },
  {
   "cell_type": "code",
   "execution_count": 24,
   "id": "43cbc28c",
   "metadata": {},
   "outputs": [
    {
     "data": {
      "text/html": [
       "<div>\n",
       "<style scoped>\n",
       "    .dataframe tbody tr th:only-of-type {\n",
       "        vertical-align: middle;\n",
       "    }\n",
       "\n",
       "    .dataframe tbody tr th {\n",
       "        vertical-align: top;\n",
       "    }\n",
       "\n",
       "    .dataframe thead th {\n",
       "        text-align: right;\n",
       "    }\n",
       "</style>\n",
       "<table border=\"1\" class=\"dataframe\">\n",
       "  <thead>\n",
       "    <tr style=\"text-align: right;\">\n",
       "      <th></th>\n",
       "      <th>행정동</th>\n",
       "      <th>보행취약장애인지수</th>\n",
       "      <th>유통업체수</th>\n",
       "    </tr>\n",
       "  </thead>\n",
       "  <tbody>\n",
       "    <tr>\n",
       "      <th>0</th>\n",
       "      <td>가락1동</td>\n",
       "      <td>596</td>\n",
       "      <td>0</td>\n",
       "    </tr>\n",
       "    <tr>\n",
       "      <th>1</th>\n",
       "      <td>가락2동</td>\n",
       "      <td>1080</td>\n",
       "      <td>1</td>\n",
       "    </tr>\n",
       "    <tr>\n",
       "      <th>2</th>\n",
       "      <td>가락본동</td>\n",
       "      <td>860</td>\n",
       "      <td>0</td>\n",
       "    </tr>\n",
       "    <tr>\n",
       "      <th>3</th>\n",
       "      <td>가리봉동</td>\n",
       "      <td>651</td>\n",
       "      <td>0</td>\n",
       "    </tr>\n",
       "    <tr>\n",
       "      <th>4</th>\n",
       "      <td>가산동</td>\n",
       "      <td>908</td>\n",
       "      <td>5</td>\n",
       "    </tr>\n",
       "    <tr>\n",
       "      <th>...</th>\n",
       "      <td>...</td>\n",
       "      <td>...</td>\n",
       "      <td>...</td>\n",
       "    </tr>\n",
       "    <tr>\n",
       "      <th>419</th>\n",
       "      <td>효창동</td>\n",
       "      <td>362</td>\n",
       "      <td>0</td>\n",
       "    </tr>\n",
       "    <tr>\n",
       "      <th>420</th>\n",
       "      <td>후암동</td>\n",
       "      <td>849</td>\n",
       "      <td>0</td>\n",
       "    </tr>\n",
       "    <tr>\n",
       "      <th>421</th>\n",
       "      <td>휘경1동</td>\n",
       "      <td>626</td>\n",
       "      <td>1</td>\n",
       "    </tr>\n",
       "    <tr>\n",
       "      <th>422</th>\n",
       "      <td>휘경2동</td>\n",
       "      <td>1081</td>\n",
       "      <td>0</td>\n",
       "    </tr>\n",
       "    <tr>\n",
       "      <th>423</th>\n",
       "      <td>흑석동</td>\n",
       "      <td>1308</td>\n",
       "      <td>1</td>\n",
       "    </tr>\n",
       "  </tbody>\n",
       "</table>\n",
       "<p>424 rows × 3 columns</p>\n",
       "</div>"
      ],
      "text/plain": [
       "      행정동  보행취약장애인지수  유통업체수\n",
       "0    가락1동        596      0\n",
       "1    가락2동       1080      1\n",
       "2    가락본동        860      0\n",
       "3    가리봉동        651      0\n",
       "4     가산동        908      5\n",
       "..    ...        ...    ...\n",
       "419   효창동        362      0\n",
       "420   후암동        849      0\n",
       "421  휘경1동        626      1\n",
       "422  휘경2동       1081      0\n",
       "423   흑석동       1308      1\n",
       "\n",
       "[424 rows x 3 columns]"
      ]
     },
     "execution_count": 24,
     "metadata": {},
     "output_type": "execute_result"
    }
   ],
   "source": [
    "disabled_market=pd.merge(disabled_score,market,on=\"행정동\")\n",
    "disabled_market"
   ]
  },
  {
   "cell_type": "code",
   "execution_count": 25,
   "id": "710ab479",
   "metadata": {},
   "outputs": [
    {
     "data": {
      "text/html": [
       "<div>\n",
       "<style scoped>\n",
       "    .dataframe tbody tr th:only-of-type {\n",
       "        vertical-align: middle;\n",
       "    }\n",
       "\n",
       "    .dataframe tbody tr th {\n",
       "        vertical-align: top;\n",
       "    }\n",
       "\n",
       "    .dataframe thead th {\n",
       "        text-align: right;\n",
       "    }\n",
       "</style>\n",
       "<table border=\"1\" class=\"dataframe\">\n",
       "  <thead>\n",
       "    <tr style=\"text-align: right;\">\n",
       "      <th></th>\n",
       "      <th>행정동</th>\n",
       "      <th>보행취약장애인지수</th>\n",
       "      <th>유통업체수</th>\n",
       "    </tr>\n",
       "  </thead>\n",
       "  <tbody>\n",
       "    <tr>\n",
       "      <th>0</th>\n",
       "      <td>가락2동</td>\n",
       "      <td>1080</td>\n",
       "      <td>1</td>\n",
       "    </tr>\n",
       "    <tr>\n",
       "      <th>1</th>\n",
       "      <td>가산동</td>\n",
       "      <td>908</td>\n",
       "      <td>5</td>\n",
       "    </tr>\n",
       "    <tr>\n",
       "      <th>2</th>\n",
       "      <td>가양2동</td>\n",
       "      <td>2507</td>\n",
       "      <td>1</td>\n",
       "    </tr>\n",
       "    <tr>\n",
       "      <th>3</th>\n",
       "      <td>가양3동</td>\n",
       "      <td>1819</td>\n",
       "      <td>1</td>\n",
       "    </tr>\n",
       "    <tr>\n",
       "      <th>4</th>\n",
       "      <td>갈현2동</td>\n",
       "      <td>1413</td>\n",
       "      <td>1</td>\n",
       "    </tr>\n",
       "    <tr>\n",
       "      <th>...</th>\n",
       "      <td>...</td>\n",
       "      <td>...</td>\n",
       "      <td>...</td>\n",
       "    </tr>\n",
       "    <tr>\n",
       "      <th>232</th>\n",
       "      <td>황학동</td>\n",
       "      <td>578</td>\n",
       "      <td>3</td>\n",
       "    </tr>\n",
       "    <tr>\n",
       "      <th>233</th>\n",
       "      <td>회기동</td>\n",
       "      <td>357</td>\n",
       "      <td>1</td>\n",
       "    </tr>\n",
       "    <tr>\n",
       "      <th>234</th>\n",
       "      <td>회현동</td>\n",
       "      <td>367</td>\n",
       "      <td>9</td>\n",
       "    </tr>\n",
       "    <tr>\n",
       "      <th>235</th>\n",
       "      <td>휘경1동</td>\n",
       "      <td>626</td>\n",
       "      <td>1</td>\n",
       "    </tr>\n",
       "    <tr>\n",
       "      <th>236</th>\n",
       "      <td>흑석동</td>\n",
       "      <td>1308</td>\n",
       "      <td>1</td>\n",
       "    </tr>\n",
       "  </tbody>\n",
       "</table>\n",
       "<p>237 rows × 3 columns</p>\n",
       "</div>"
      ],
      "text/plain": [
       "      행정동  보행취약장애인지수  유통업체수\n",
       "0    가락2동       1080      1\n",
       "1     가산동        908      5\n",
       "2    가양2동       2507      1\n",
       "3    가양3동       1819      1\n",
       "4    갈현2동       1413      1\n",
       "..    ...        ...    ...\n",
       "232   황학동        578      3\n",
       "233   회기동        357      1\n",
       "234   회현동        367      9\n",
       "235  휘경1동        626      1\n",
       "236   흑석동       1308      1\n",
       "\n",
       "[237 rows x 3 columns]"
      ]
     },
     "execution_count": 25,
     "metadata": {},
     "output_type": "execute_result"
    }
   ],
   "source": [
    "# 유통업체 0인 행정동 제거 (df_market)\n",
    "df_market = disabled_market.drop(index = disabled_market[disabled_market['유통업체수']==0].index)\n",
    "df_market = df_market.reset_index(drop=True)\n",
    "df_market"
   ]
  },
  {
   "cell_type": "code",
   "execution_count": 26,
   "id": "f4b70e28",
   "metadata": {},
   "outputs": [
    {
     "data": {
      "text/html": [
       "<div>\n",
       "<style scoped>\n",
       "    .dataframe tbody tr th:only-of-type {\n",
       "        vertical-align: middle;\n",
       "    }\n",
       "\n",
       "    .dataframe tbody tr th {\n",
       "        vertical-align: top;\n",
       "    }\n",
       "\n",
       "    .dataframe thead th {\n",
       "        text-align: right;\n",
       "    }\n",
       "</style>\n",
       "<table border=\"1\" class=\"dataframe\">\n",
       "  <thead>\n",
       "    <tr style=\"text-align: right;\">\n",
       "      <th></th>\n",
       "      <th>행정동</th>\n",
       "      <th>보행취약장애인지수</th>\n",
       "      <th>유통업체수</th>\n",
       "    </tr>\n",
       "  </thead>\n",
       "  <tbody>\n",
       "    <tr>\n",
       "      <th>0</th>\n",
       "      <td>가락2동</td>\n",
       "      <td>0.010896</td>\n",
       "      <td>0.0</td>\n",
       "    </tr>\n",
       "    <tr>\n",
       "      <th>1</th>\n",
       "      <td>가산동</td>\n",
       "      <td>-0.197337</td>\n",
       "      <td>4.0</td>\n",
       "    </tr>\n",
       "    <tr>\n",
       "      <th>2</th>\n",
       "      <td>가양2동</td>\n",
       "      <td>1.738499</td>\n",
       "      <td>0.0</td>\n",
       "    </tr>\n",
       "    <tr>\n",
       "      <th>3</th>\n",
       "      <td>가양3동</td>\n",
       "      <td>0.905569</td>\n",
       "      <td>0.0</td>\n",
       "    </tr>\n",
       "    <tr>\n",
       "      <th>4</th>\n",
       "      <td>갈현2동</td>\n",
       "      <td>0.414044</td>\n",
       "      <td>0.0</td>\n",
       "    </tr>\n",
       "    <tr>\n",
       "      <th>...</th>\n",
       "      <td>...</td>\n",
       "      <td>...</td>\n",
       "      <td>...</td>\n",
       "    </tr>\n",
       "    <tr>\n",
       "      <th>232</th>\n",
       "      <td>황학동</td>\n",
       "      <td>-0.596852</td>\n",
       "      <td>2.0</td>\n",
       "    </tr>\n",
       "    <tr>\n",
       "      <th>233</th>\n",
       "      <td>회기동</td>\n",
       "      <td>-0.864407</td>\n",
       "      <td>0.0</td>\n",
       "    </tr>\n",
       "    <tr>\n",
       "      <th>234</th>\n",
       "      <td>회현동</td>\n",
       "      <td>-0.852300</td>\n",
       "      <td>8.0</td>\n",
       "    </tr>\n",
       "    <tr>\n",
       "      <th>235</th>\n",
       "      <td>휘경1동</td>\n",
       "      <td>-0.538741</td>\n",
       "      <td>0.0</td>\n",
       "    </tr>\n",
       "    <tr>\n",
       "      <th>236</th>\n",
       "      <td>흑석동</td>\n",
       "      <td>0.286925</td>\n",
       "      <td>0.0</td>\n",
       "    </tr>\n",
       "  </tbody>\n",
       "</table>\n",
       "<p>237 rows × 3 columns</p>\n",
       "</div>"
      ],
      "text/plain": [
       "      행정동  보행취약장애인지수  유통업체수\n",
       "0    가락2동   0.010896    0.0\n",
       "1     가산동  -0.197337    4.0\n",
       "2    가양2동   1.738499    0.0\n",
       "3    가양3동   0.905569    0.0\n",
       "4    갈현2동   0.414044    0.0\n",
       "..    ...        ...    ...\n",
       "232   황학동  -0.596852    2.0\n",
       "233   회기동  -0.864407    0.0\n",
       "234   회현동  -0.852300    8.0\n",
       "235  휘경1동  -0.538741    0.0\n",
       "236   흑석동   0.286925    0.0\n",
       "\n",
       "[237 rows x 3 columns]"
      ]
     },
     "execution_count": 26,
     "metadata": {},
     "output_type": "execute_result"
    }
   ],
   "source": [
    "# scaling\n",
    "scaler = RobustScaler()\n",
    "df_market_scale=pd.DataFrame(scaler.fit_transform(df_market[['보행취약장애인지수','유통업체수']]),columns=df_market[['보행취약장애인지수','유통업체수']].columns)\n",
    "df_market_scale.insert(0, '행정동', df_market['행정동'])\n",
    "df_market_scale"
   ]
  },
  {
   "cell_type": "code",
   "execution_count": 27,
   "id": "47d2e333",
   "metadata": {},
   "outputs": [
    {
     "name": "stderr",
     "output_type": "stream",
     "text": [
      "C:\\Users\\gtsye\\anaconda3\\envs\\dongguk\\lib\\site-packages\\sklearn\\cluster\\_kmeans.py:1037: UserWarning: KMeans is known to have a memory leak on Windows with MKL, when there are less chunks than available threads. You can avoid it by setting the environment variable OMP_NUM_THREADS=1.\n",
      "  \"KMeans is known to have a memory leak on Windows \"\n"
     ]
    },
    {
     "data": {
      "image/png": "[encoded data removed]",
      "text/plain": [
       "<Figure size 432x288 with 1 Axes>"
      ]
     },
     "metadata": {},
     "output_type": "display_data"
    }
   ],
   "source": [
    "# elbow\n",
    "data_market=df_market_scale.values\n",
    "X=data_market[:,1:]\n",
    "X\n",
    "num_clusters = list(range(1,10))\n",
    "inertias = []\n",
    "\n",
    "for i in num_clusters:\n",
    "    model = KMeans(n_clusters=i)\n",
    "    model.fit(X)\n",
    "    inertias.append(model.inertia_)\n",
    "\n",
    "plt.title('보행 취약 장애인 지수-상권 cluster 개수 선정')\n",
    "plt.plot(num_clusters, inertias, '-o')\n",
    "plt.xlabel('Number of clusters (k)')\n",
    "plt.ylabel('Inertia')\n",
    "plt.show()"
   ]
  },
  {
   "cell_type": "markdown",
   "id": "0d157294",
   "metadata": {},
   "source": [
    "k = 4"
   ]
  },
  {
   "cell_type": "code",
   "execution_count": 28,
   "id": "26734969",
   "metadata": {},
   "outputs": [
    {
     "data": {
      "text/plain": [
       "Text(0.5, 1.0, '보행 취약 장애인 지수와 상권 clustering')"
      ]
     },
     "execution_count": 28,
     "metadata": {},
     "output_type": "execute_result"
    },
    {
     "data": {
      "image/png": "[encoded data removed]",
      "text/plain": [
       "<Figure size 405.725x360 with 1 Axes>"
      ]
     },
     "metadata": {},
     "output_type": "display_data"
    }
   ],
   "source": [
    "# clustering\n",
    "kmeans = KMeans(n_clusters=4).fit(X)\n",
    "kmeans.cluster_centers_\n",
    "kmeans.labels_\n",
    "df_market_scale['cluster'] = kmeans.labels_\n",
    "\n",
    "sns.lmplot(x='보행취약장애인지수',y='유통업체수', data = df_market_scale, fit_reg=False, scatter_kws={\"s\":150},hue=\"cluster\")\n",
    "plt.xlabel('보행 취약 장애인 지수')\n",
    "plt.ylabel('상권 존재 여부')\n",
    "plt.title('보행 취약 장애인 지수와 상권 clustering', fontsize = 13, pad = 20) # pad : 제목과 그림 사이 간격"
   ]
  },
  {
   "cell_type": "markdown",
   "id": "d0e5aa43",
   "metadata": {},
   "source": [
    "원하는 cluster 찾기가 쉽지 않아서 보행취약장애인지수 > 0 인 행정동 filter"
   ]
  },
  {
   "cell_type": "code",
   "execution_count": 29,
   "id": "85546b40",
   "metadata": {},
   "outputs": [
    {
     "data": {
      "text/html": [
       "<div>\n",
       "<style scoped>\n",
       "    .dataframe tbody tr th:only-of-type {\n",
       "        vertical-align: middle;\n",
       "    }\n",
       "\n",
       "    .dataframe tbody tr th {\n",
       "        vertical-align: top;\n",
       "    }\n",
       "\n",
       "    .dataframe thead th {\n",
       "        text-align: right;\n",
       "    }\n",
       "</style>\n",
       "<table border=\"1\" class=\"dataframe\">\n",
       "  <thead>\n",
       "    <tr style=\"text-align: right;\">\n",
       "      <th></th>\n",
       "      <th>행정동</th>\n",
       "      <th>보행취약장애인지수</th>\n",
       "      <th>유통업체수</th>\n",
       "      <th>cluster</th>\n",
       "    </tr>\n",
       "  </thead>\n",
       "  <tbody>\n",
       "    <tr>\n",
       "      <th>0</th>\n",
       "      <td>가락2동</td>\n",
       "      <td>0.010896</td>\n",
       "      <td>0.0</td>\n",
       "      <td>0</td>\n",
       "    </tr>\n",
       "    <tr>\n",
       "      <th>1</th>\n",
       "      <td>가양2동</td>\n",
       "      <td>1.738499</td>\n",
       "      <td>0.0</td>\n",
       "      <td>0</td>\n",
       "    </tr>\n",
       "    <tr>\n",
       "      <th>2</th>\n",
       "      <td>가양3동</td>\n",
       "      <td>0.905569</td>\n",
       "      <td>0.0</td>\n",
       "      <td>0</td>\n",
       "    </tr>\n",
       "    <tr>\n",
       "      <th>3</th>\n",
       "      <td>갈현2동</td>\n",
       "      <td>0.414044</td>\n",
       "      <td>0.0</td>\n",
       "      <td>0</td>\n",
       "    </tr>\n",
       "    <tr>\n",
       "      <th>4</th>\n",
       "      <td>개봉2동</td>\n",
       "      <td>0.777240</td>\n",
       "      <td>0.0</td>\n",
       "      <td>0</td>\n",
       "    </tr>\n",
       "    <tr>\n",
       "      <th>...</th>\n",
       "      <td>...</td>\n",
       "      <td>...</td>\n",
       "      <td>...</td>\n",
       "      <td>...</td>\n",
       "    </tr>\n",
       "    <tr>\n",
       "      <th>113</th>\n",
       "      <td>행운동</td>\n",
       "      <td>0.203390</td>\n",
       "      <td>0.0</td>\n",
       "      <td>0</td>\n",
       "    </tr>\n",
       "    <tr>\n",
       "      <th>114</th>\n",
       "      <td>홍은1동</td>\n",
       "      <td>0.210654</td>\n",
       "      <td>0.0</td>\n",
       "      <td>0</td>\n",
       "    </tr>\n",
       "    <tr>\n",
       "      <th>115</th>\n",
       "      <td>화곡1동</td>\n",
       "      <td>1.731235</td>\n",
       "      <td>2.0</td>\n",
       "      <td>3</td>\n",
       "    </tr>\n",
       "    <tr>\n",
       "      <th>116</th>\n",
       "      <td>화곡4동</td>\n",
       "      <td>0.135593</td>\n",
       "      <td>0.0</td>\n",
       "      <td>0</td>\n",
       "    </tr>\n",
       "    <tr>\n",
       "      <th>117</th>\n",
       "      <td>흑석동</td>\n",
       "      <td>0.286925</td>\n",
       "      <td>0.0</td>\n",
       "      <td>0</td>\n",
       "    </tr>\n",
       "  </tbody>\n",
       "</table>\n",
       "<p>118 rows × 4 columns</p>\n",
       "</div>"
      ],
      "text/plain": [
       "      행정동  보행취약장애인지수  유통업체수  cluster\n",
       "0    가락2동   0.010896    0.0        0\n",
       "1    가양2동   1.738499    0.0        0\n",
       "2    가양3동   0.905569    0.0        0\n",
       "3    갈현2동   0.414044    0.0        0\n",
       "4    개봉2동   0.777240    0.0        0\n",
       "..    ...        ...    ...      ...\n",
       "113   행운동   0.203390    0.0        0\n",
       "114  홍은1동   0.210654    0.0        0\n",
       "115  화곡1동   1.731235    2.0        3\n",
       "116  화곡4동   0.135593    0.0        0\n",
       "117   흑석동   0.286925    0.0        0\n",
       "\n",
       "[118 rows x 4 columns]"
      ]
     },
     "execution_count": 29,
     "metadata": {},
     "output_type": "execute_result"
    }
   ],
   "source": [
    "df_market_scale_0 = df_market_scale[df_market_scale['보행취약장애인지수']>0]\n",
    "df_market_scale_0 = df_market_scale_0.reset_index(drop=True)\n",
    "df_market_scale_0"
   ]
  },
  {
   "cell_type": "code",
   "execution_count": 30,
   "id": "1cd1e31b",
   "metadata": {},
   "outputs": [
    {
     "name": "stderr",
     "output_type": "stream",
     "text": [
      "C:\\Users\\gtsye\\anaconda3\\envs\\dongguk\\lib\\site-packages\\sklearn\\cluster\\_kmeans.py:1037: UserWarning: KMeans is known to have a memory leak on Windows with MKL, when there are less chunks than available threads. You can avoid it by setting the environment variable OMP_NUM_THREADS=1.\n",
      "  \"KMeans is known to have a memory leak on Windows \"\n"
     ]
    },
    {
     "data": {
      "image/png": "[encoded data removed]",
      "text/plain": [
       "<Figure size 432x288 with 1 Axes>"
      ]
     },
     "metadata": {},
     "output_type": "display_data"
    }
   ],
   "source": [
    "# elbow\n",
    "data = df_market_scale_0.values\n",
    "X=data[:,1:-1]\n",
    "\n",
    "num_clusters = list(range(1,10))\n",
    "inertias = []\n",
    "\n",
    "for i in num_clusters:\n",
    "    model = KMeans(n_clusters=i)\n",
    "    model.fit(X)\n",
    "    inertias.append(model.inertia_)\n",
    "\n",
    "plt.title('보행 취약 장애인 지수-상권 cluster 개수 재선정')\n",
    "plt.plot(num_clusters, inertias, '-o')\n",
    "plt.xlabel('Number of clusters (k)')\n",
    "plt.ylabel('Inertia')\n",
    "plt.show()"
   ]
  },
  {
   "cell_type": "markdown",
   "id": "48212071",
   "metadata": {},
   "source": [
    "k = 4"
   ]
  },
  {
   "cell_type": "code",
   "execution_count": 31,
   "id": "24ac4ae7",
   "metadata": {},
   "outputs": [
    {
     "data": {
      "text/plain": [
       "Text(0.5, 1.0, '보행 취약 장애인 지수와 상권 2차 clustering')"
      ]
     },
     "execution_count": 31,
     "metadata": {},
     "output_type": "execute_result"
    },
    {
     "data": {
      "image/png": "[encoded data removed]",
      "text/plain": [
       "<Figure size 431.05x360 with 1 Axes>"
      ]
     },
     "metadata": {},
     "output_type": "display_data"
    }
   ],
   "source": [
    "# clustering\n",
    "kmeans = KMeans(n_clusters=4).fit(X)\n",
    "kmeans.cluster_centers_\n",
    "kmeans.labels_\n",
    "df_market_scale_0['new cluster'] = kmeans.labels_\n",
    "\n",
    "sns.lmplot(x='보행취약장애인지수',y='유통업체수', data = df_market_scale_0, fit_reg=False, scatter_kws={\"s\":150},hue=\"new cluster\")\n",
    "plt.xlabel('보행 취약 장애인 지수')\n",
    "plt.ylabel('상권 존재 여부')\n",
    "plt.title('보행 취약 장애인 지수와 상권 2차 clustering', fontsize = 13, pad = 20) # pad : 제목과 그림 사이 간격"
   ]
  },
  {
   "cell_type": "markdown",
   "id": "ce0b3dd0",
   "metadata": {},
   "source": [
    "cluster 1 (상권 존재 여부 >= 3) 선정이 적합해보임"
   ]
  },
  {
   "cell_type": "markdown",
   "id": "a4994aed",
   "metadata": {},
   "source": [
    "### 선정 결과"
   ]
  },
  {
   "cell_type": "code",
   "execution_count": 32,
   "id": "909570a7",
   "metadata": {},
   "outputs": [
    {
     "data": {
      "text/html": [
       "<div>\n",
       "<style scoped>\n",
       "    .dataframe tbody tr th:only-of-type {\n",
       "        vertical-align: middle;\n",
       "    }\n",
       "\n",
       "    .dataframe tbody tr th {\n",
       "        vertical-align: top;\n",
       "    }\n",
       "\n",
       "    .dataframe thead th {\n",
       "        text-align: right;\n",
       "    }\n",
       "</style>\n",
       "<table border=\"1\" class=\"dataframe\">\n",
       "  <thead>\n",
       "    <tr style=\"text-align: right;\">\n",
       "      <th></th>\n",
       "      <th>행정동</th>\n",
       "      <th>보행취약장애인지수</th>\n",
       "      <th>유통업체수</th>\n",
       "      <th>cluster</th>\n",
       "      <th>new cluster</th>\n",
       "    </tr>\n",
       "  </thead>\n",
       "  <tbody>\n",
       "    <tr>\n",
       "      <th>6</th>\n",
       "      <td>고척1동</td>\n",
       "      <td>0.347458</td>\n",
       "      <td>4.0</td>\n",
       "      <td>1</td>\n",
       "      <td>1</td>\n",
       "    </tr>\n",
       "    <tr>\n",
       "      <th>10</th>\n",
       "      <td>구로2동</td>\n",
       "      <td>0.830508</td>\n",
       "      <td>3.0</td>\n",
       "      <td>1</td>\n",
       "      <td>1</td>\n",
       "    </tr>\n",
       "    <tr>\n",
       "      <th>13</th>\n",
       "      <td>구로5동</td>\n",
       "      <td>0.345036</td>\n",
       "      <td>3.0</td>\n",
       "      <td>1</td>\n",
       "      <td>1</td>\n",
       "    </tr>\n",
       "    <tr>\n",
       "      <th>17</th>\n",
       "      <td>길음1동</td>\n",
       "      <td>0.162228</td>\n",
       "      <td>4.0</td>\n",
       "      <td>1</td>\n",
       "      <td>1</td>\n",
       "    </tr>\n",
       "    <tr>\n",
       "      <th>26</th>\n",
       "      <td>독산1동</td>\n",
       "      <td>1.472155</td>\n",
       "      <td>6.0</td>\n",
       "      <td>1</td>\n",
       "      <td>1</td>\n",
       "    </tr>\n",
       "    <tr>\n",
       "      <th>78</th>\n",
       "      <td>영등포동</td>\n",
       "      <td>0.139225</td>\n",
       "      <td>5.0</td>\n",
       "      <td>1</td>\n",
       "      <td>1</td>\n",
       "    </tr>\n",
       "    <tr>\n",
       "      <th>83</th>\n",
       "      <td>용신동</td>\n",
       "      <td>0.841404</td>\n",
       "      <td>3.0</td>\n",
       "      <td>1</td>\n",
       "      <td>1</td>\n",
       "    </tr>\n",
       "    <tr>\n",
       "      <th>99</th>\n",
       "      <td>전농1동</td>\n",
       "      <td>0.897094</td>\n",
       "      <td>3.0</td>\n",
       "      <td>1</td>\n",
       "      <td>1</td>\n",
       "    </tr>\n",
       "    <tr>\n",
       "      <th>100</th>\n",
       "      <td>제기동</td>\n",
       "      <td>0.743341</td>\n",
       "      <td>3.0</td>\n",
       "      <td>1</td>\n",
       "      <td>1</td>\n",
       "    </tr>\n",
       "    <tr>\n",
       "      <th>101</th>\n",
       "      <td>중계2.3동</td>\n",
       "      <td>3.037530</td>\n",
       "      <td>3.0</td>\n",
       "      <td>1</td>\n",
       "      <td>1</td>\n",
       "    </tr>\n",
       "  </tbody>\n",
       "</table>\n",
       "</div>"
      ],
      "text/plain": [
       "        행정동  보행취약장애인지수  유통업체수  cluster  new cluster\n",
       "6      고척1동   0.347458    4.0        1            1\n",
       "10     구로2동   0.830508    3.0        1            1\n",
       "13     구로5동   0.345036    3.0        1            1\n",
       "17     길음1동   0.162228    4.0        1            1\n",
       "26     독산1동   1.472155    6.0        1            1\n",
       "78     영등포동   0.139225    5.0        1            1\n",
       "83      용신동   0.841404    3.0        1            1\n",
       "99     전농1동   0.897094    3.0        1            1\n",
       "100     제기동   0.743341    3.0        1            1\n",
       "101  중계2.3동   3.037530    3.0        1            1"
      ]
     },
     "execution_count": 32,
     "metadata": {},
     "output_type": "execute_result"
    }
   ],
   "source": [
    "result = df_market_scale_0[df_market_scale_0['new cluster']==1]\n",
    "result"
   ]
  },
  {
   "cell_type": "code",
   "execution_count": 33,
   "id": "56936f5f",
   "metadata": {},
   "outputs": [],
   "source": [
    "result.to_csv(\"보행취약장애인지수_상권_clustering.csv\",encoding=\"cp949\")"
   ]
  }
 ],
 "metadata": {
  "kernelspec": {
   "display_name": "Python 3 (ipykernel)",
   "language": "python",
   "name": "python3"
  },
  "language_info": {
   "codemirror_mode": {
    "name": "ipython",
    "version": 3
   },
   "file_extension": ".py",
   "mimetype": "text/x-python",
   "name": "python",
   "nbconvert_exporter": "python",
   "pygments_lexer": "ipython3",
   "version": "3.7.11"
  }
 },
 "nbformat": 4,
 "nbformat_minor": 5
}
